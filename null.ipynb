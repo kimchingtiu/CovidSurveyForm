{
  "nbformat": 4,
  "nbformat_minor": 0,
  "metadata": {
    "colab": {
      "name": "Untitled3.ipynb",
      "provenance": [],
      "authorship_tag": "ABX9TyP4XLIy6/b4W+y9cgnTXNH2",
      "include_colab_link": true
    },
    "kernelspec": {
      "name": "python3",
      "display_name": "Python 3"
    },
    "language_info": {
      "name": "python"
    }
  },
  "cells": [
    {
      "cell_type": "markdown",
      "metadata": {
        "id": "view-in-github",
        "colab_type": "text"
      },
      "source": [
        "<a href=\"https://colab.research.google.com/github/kimchingtiu/CovidSurveyForm/blob/main/null.ipynb\" target=\"_parent\"><img src=\"https://colab.research.google.com/assets/colab-badge.svg\" alt=\"Open In Colab\"/></a>"
      ]
    },
    {
      "cell_type": "code",
      "execution_count": null,
      "metadata": {
        "id": "qfI2bhUllXyo"
      },
      "outputs": [],
      "source": [
        "# This will drop all rows in which there is any missing values\n",
        "trainfill=train.fillna(0)  #This will just fill all values with nulls.  Probably not what we want. \n",
        "print(len(trainfill.index))\n",
        "print(traindrop.isnull().sum())\n",
        "\n",
        "# forward-fill previous value forward.\n",
        "train.fillna(method='ffill')\n",
        "\n",
        "# forward-fill previous value forward.\n",
        "train.fillna(method='bfill')"
      ]
    },
    {
      "cell_type": "code",
      "source": [
        ""
      ],
      "metadata": {
        "id": "XAz3aVlzlZKq"
      },
      "execution_count": null,
      "outputs": []
    }
  ]
}